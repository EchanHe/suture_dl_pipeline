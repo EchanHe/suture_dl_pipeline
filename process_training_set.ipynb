{
 "cells": [
  {
   "cell_type": "code",
   "execution_count": 16,
   "metadata": {},
   "outputs": [],
   "source": [
    "import os,sys,shutil,cv2\n",
    "import numpy as np"
   ]
  },
  {
   "cell_type": "code",
   "execution_count": 13,
   "metadata": {},
   "outputs": [
    {
     "data": {
      "text/plain": [
       "'Sminthopsis_macroura_all_sutures_0'"
      ]
     },
     "execution_count": 13,
     "metadata": {},
     "output_type": "execute_result"
    }
   ],
   "source": [
    "# Rename\n",
    "# Renaming image names in directory <dir>, changing <old_prefix>* to <new_prefix>*\n",
    "\n",
    "old_prefix = \"Sminthopsis_macroura_all_sutures_\"\n",
    "new_prefix = \"Sminthopsis_macroura_all_sutures_0\"\n",
    "dir = \"data/training_set_suture/img_all/\"\n",
    "\n",
    "files = os.listdir(\"data/training_set_suture/img_all/\")\n",
    "for file in files:\n",
    "    new_file = file.replace(old_prefix,new_prefix)\n",
    "    # print(file)\n",
    "    # print(\"Bettongia_penicillata_all_sutures_0095.tiff\" == file)\n",
    "    os.rename(dir + file,\n",
    "    dir + new_file)\n",
    "\n",
    "old_prefix.replace(old_prefix,new_prefix)\n",
    "\n"
   ]
  },
  {
   "cell_type": "code",
   "execution_count": 14,
   "metadata": {},
   "outputs": [],
   "source": [
    "# Copy images in <dir> that have the same file names as masks in <mask_dir> to <dst>\n",
    "# To create an image folder that matches the exact number of the name of the mask folder.\n",
    "\n",
    "dir = \"data/training_set_suture/img_all\"\n",
    "dst = \"data/training_set_suture/img/\"\n",
    "\n",
    "mask_dir = \"data/training_set_suture/mask/\"\n",
    "\n",
    "mask_files = os.listdir(mask_dir)\n",
    "files = os.listdir(dir)\n",
    "for file in files:\n",
    "    if file in mask_files:\n",
    "        shutil.copyfile(os.path.join(dir, file), os.path.join(dst, file))\n",
    "    \n",
    "\n",
    "\n"
   ]
  },
  {
   "cell_type": "code",
   "execution_count": 24,
   "metadata": {},
   "outputs": [],
   "source": [
    "### Processing origin masks ###\n",
    "# Transfer the masks from Dragonfly (1: bones, 2: suture, 3:background) to masks that has only segmentation for suture and non-suture (1: non-suture and 2: suture)\n",
    "# <mask_dir> the directory for the origin masks, <new_dir> the directory for output masks\n",
    "mask_dir = \"data/training_suture/mask/\"\n",
    "new_dir = \"data/training_suture/mask_suture_only/\"\n",
    "\n",
    "files = os.listdir(mask_dir)\n",
    "for file in files:\n",
    "    img = cv2.imread(os.path.join(mask_dir , file), cv2.IMREAD_GRAYSCALE )\n",
    "    # Turn 3: background to 1: non-suture\n",
    "    img[img==3]=1\n",
    "\n",
    "    cv2.imwrite(os.path.join(new_dir,file), img)\n"
   ]
  },
  {
   "cell_type": "code",
   "execution_count": 21,
   "metadata": {},
   "outputs": [],
   "source": [
    "### Processing origin masks ###\n",
    "\n",
    "# Transfer masks to image gradient.\n",
    "# "
   ]
  },
  {
   "cell_type": "code",
   "execution_count": 18,
   "metadata": {},
   "outputs": [],
   "source": [
    "# Visualise the segmentation masks (pixel values from 1 to N)\n",
    "# interpolate (1 to N) -> (0, 255)\n",
    "# Reads in images from <mask_dir> and output visualised version in <vis_dir>\n",
    "\n",
    "mask_dir = \"data/training_suture_mini/mask/\"\n",
    "vis_dir = \"data/visualised_version/\"\n",
    "\n",
    "files = os.listdir(mask_dir)\n",
    "for file in files:\n",
    "    img = cv2.imread(os.path.join(mask_dir , file), cv2.IMREAD_GRAYSCALE )\n",
    "    cv2.imwrite(os.path.join(vis_dir,file), np.interp(img, [1, np.max(img)],[1,255]).astype('uint8')  )\n",
    "\n"
   ]
  }
 ],
 "metadata": {
  "kernelspec": {
   "display_name": "torch",
   "language": "python",
   "name": "python3"
  },
  "language_info": {
   "codemirror_mode": {
    "name": "ipython",
    "version": 3
   },
   "file_extension": ".py",
   "mimetype": "text/x-python",
   "name": "python",
   "nbconvert_exporter": "python",
   "pygments_lexer": "ipython3",
   "version": "3.10.9"
  },
  "orig_nbformat": 4,
  "vscode": {
   "interpreter": {
    "hash": "bde6227ca098a28506cae2de5e5d199190f968e09af08cbdae81bc10cc850e31"
   }
  }
 },
 "nbformat": 4,
 "nbformat_minor": 2
}
