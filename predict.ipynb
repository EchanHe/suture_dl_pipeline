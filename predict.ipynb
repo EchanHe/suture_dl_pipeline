{
 "cells": [
  {
   "cell_type": "code",
   "execution_count": 1,
   "metadata": {},
   "outputs": [],
   "source": [
    "# set the configuration\n",
    "import configparser\n",
    "import os\n",
    "from pathlib import Path\n",
    "\n",
    "import cv2\n",
    "import numpy as np\n",
    "\n",
    "import torch\n",
    "import torchvision\n",
    "\n",
    "import seg_data"
   ]
  },
  {
   "cell_type": "code",
   "execution_count": 2,
   "metadata": {},
   "outputs": [
    {
     "name": "stdout",
     "output_type": "stream",
     "text": [
      "Predicting info:\n",
      "        Reading images from: ./data/suture/img\n",
      "        Reading the checkpoint from: ./checkpoint/unet_checkpoint_epoch30.pth\n",
      "        The output directory: ./output/suture/\n",
      "\n",
      "System info:\n",
      "        Using device: cuda\n",
      "        CPU cores: 16\n",
      "        GPU count: 1\n",
      "\n"
     ]
    }
   ],
   "source": [
    "\n",
    "## Read the config\n",
    "def read_ini(file_path):\n",
    "    config = configparser.ConfigParser()\n",
    "    config.read(file_path)\n",
    "    return config\n",
    "\n",
    " \n",
    "config = read_ini(\"./pred_config.ini\")\n",
    "\n",
    "\n",
    "img_path = config[\"DIR\"][\"image_dir\"]\n",
    "output_vis_path =config[\"DIR\"][\"output_vis_path\"]\n",
    "checkpoint_path = config[\"DIR\"][\"checkpoint_path\"]\n",
    "output_path = config[\"DIR\"][\"output_path\"]\n",
    "\n",
    "start_class_i = int(config[\"PARAMS\"].get('start_class_i',0))\n",
    "\n",
    "scale = int(config[\"PARAMS\"][\"scale\"])\n",
    "\n",
    "Path(output_path).mkdir(parents=True, exist_ok=True)\n",
    "Path(output_vis_path).mkdir(parents=True, exist_ok=True)\n",
    "\n",
    "\n",
    "assert os.path.isfile(checkpoint_path), \"Checkpoint file not exist\"\n",
    "\n",
    "\n",
    "print(f'''Predicting info:\n",
    "        Reading images from: {img_path}\n",
    "        Reading the checkpoint from: {checkpoint_path}\n",
    "        The output directory: {output_path}\n",
    "''') \n",
    "\n",
    "device = torch.device('cuda' if torch.cuda.is_available() else 'cpu')\n",
    "\n",
    "print(f'''System info:\n",
    "        Using device: {device}\n",
    "        CPU cores: {os.cpu_count()}\n",
    "        GPU count: {torch.cuda.device_count()}\n",
    "''')\n"
   ]
  },
  {
   "cell_type": "code",
   "execution_count": 3,
   "metadata": {},
   "outputs": [
    {
     "name": "stdout",
     "output_type": "stream",
     "text": [
      "img info++++++++++ {'w': tensor([1550]), 'h': tensor([1580])}\n",
      "img info++++++++++ {'w': tensor([1550]), 'h': tensor([1580])}\n",
      "img info++++++++++ {'w': tensor([1550]), 'h': tensor([1580])}\n",
      "img info++++++++++ {'w': tensor([1550]), 'h': tensor([1580])}\n",
      "img info++++++++++ {'w': tensor([1550]), 'h': tensor([1580])}\n",
      "img info++++++++++ {'w': tensor([1550]), 'h': tensor([1580])}\n",
      "img info++++++++++ {'w': tensor([1550]), 'h': tensor([1580])}\n",
      "img info++++++++++ {'w': tensor([1550]), 'h': tensor([1580])}\n"
     ]
    }
   ],
   "source": [
    "dataset_pred = seg_data.segDataset(img_path = img_path,scale=scale,is_train=False, start_class_i = start_class_i)\n",
    "data_loader_pred = torch.utils.data.DataLoader(dataset_pred, batch_size=1, shuffle=False)\n",
    "\n",
    "\n",
    "model = torch.load(checkpoint_path)\n",
    "model = model.to(device)\n",
    "model.eval()\n",
    "\n",
    "dataset_pred.img_path\n",
    "dataset_pred.imgs\n",
    "\n",
    "## Iterate through the images and save them to the directory.\n",
    "for idx, (img,img_info) in enumerate(data_loader_pred):\n",
    "    img_name = dataset_pred.imgs[idx]\n",
    "        \n",
    "    # print(\"img info++++++++++\",img_info)\n",
    "    img = img.to(device)  \n",
    "    out = model(img)\n",
    "    \n",
    "    if \"deeplab\" in checkpoint_path:\n",
    "        out = out['out']\n",
    "    out_temp = out.cpu().detach().numpy()\n",
    "\n",
    "\n",
    "\n",
    "    seg= out_temp[0].transpose(1, 2, 0).argmax(2)\n",
    "    \n",
    "    # output_mask = np.zeros(seg.shape).astype('uint8')\n",
    "    # output_mask[seg==1]=255\n",
    "\n",
    "    if scale!=1:\n",
    "        seg = cv2.resize(seg, (img_info['w'].item(),img_info['h'].item()),\n",
    "                interpolation = cv2.INTER_NEAREST )\n",
    "    \n",
    "    # print(os.path.join(output_path,img_name))\n",
    "    cv2.imwrite( os.path.join(output_path,img_name),seg)\n",
    "\n",
    "    cv2.imwrite( os.path.join(output_vis_path,img_name), np.interp(seg, [0, np.max(seg)],[1,255]).astype('uint8'))\n",
    "    #  np.interp(img[0].cpu().detach().numpy().transpose(1, 2, 0),[0,1],[1,255]).astype('uint8'))\n"
   ]
  },
  {
   "cell_type": "code",
   "execution_count": 10,
   "metadata": {},
   "outputs": [
    {
     "data": {
      "text/plain": [
       "'M1907_0215.tiff'"
      ]
     },
     "execution_count": 10,
     "metadata": {},
     "output_type": "execute_result"
    }
   ],
   "source": [
    "import matplotlib.pyplot as plt\n",
    "\n",
    "# plt.imshow(np.interp(seg, [0, np.max(seg)],[1,255]) )\n",
    "cv2.imwrite( os.path.join(output_vis_path,img_name), np.interp(seg, [0, np.max(seg)],[1,255]) )\n",
    "img_name"
   ]
  },
  {
   "cell_type": "code",
   "execution_count": 16,
   "metadata": {},
   "outputs": [
    {
     "data": {
      "text/plain": [
       "True"
      ]
     },
     "execution_count": 16,
     "metadata": {},
     "output_type": "execute_result"
    }
   ],
   "source": [
    "cv2.imwrite( os.path.join(output_vis_path,\"a.tif\"), np.interp(seg, [0, np.max(seg)],[1,255]).astype('uint8') )"
   ]
  },
  {
   "cell_type": "code",
   "execution_count": 49,
   "metadata": {},
   "outputs": [],
   "source": [
    "img_new = np.interp(img[0].cpu().detach().numpy().transpose(1, 2, 0),[0,1],[1,255]).astype('uint8')\n",
    "\n",
    "cv2.imshow(\"j\",img_new)"
   ]
  },
  {
   "cell_type": "code",
   "execution_count": 15,
   "metadata": {},
   "outputs": [
    {
     "data": {
      "text/plain": [
       "array([[  1.,   1.,   1., ...,   1.,   1.,   1.],\n",
       "       [  1.,   1.,   1., ...,   1.,   1.,   1.],\n",
       "       [  1.,   1.,   1., ...,   1.,   1.,   1.],\n",
       "       ...,\n",
       "       [128., 128., 128., ...,   1.,   1.,   1.],\n",
       "       [128., 128., 128., ...,   1.,   1.,   1.],\n",
       "       [128., 128., 128., ...,   1.,   1.,   1.]])"
      ]
     },
     "execution_count": 15,
     "metadata": {},
     "output_type": "execute_result"
    }
   ],
   "source": [
    "type"
   ]
  },
  {
   "cell_type": "code",
   "execution_count": 27,
   "metadata": {},
   "outputs": [
    {
     "data": {
      "text/plain": [
       "array([[[[23.90980445, 21.9176477 , 22.91372608, ..., 23.90980445,\n",
       "          22.91372608, 23.90980445],\n",
       "         [20.92156933, 22.91372608, 21.9176477 , ..., 24.90588282,\n",
       "          24.90588282, 25.90196119],\n",
       "         [20.92156933, 21.9176477 , 21.9176477 , ..., 23.90980445,\n",
       "          23.90980445, 22.91372608],\n",
       "         ...,\n",
       "         [31.87843142, 32.87451169, 33.87059006, ..., 39.84706029,\n",
       "          38.85098192, 39.84706029],\n",
       "         [38.85098192, 38.85098192, 39.84706029, ..., 39.84706029,\n",
       "          40.84313866, 41.83921704],\n",
       "         [45.82353052, 46.8196089 , 47.81568727, ..., 40.84313866,\n",
       "          40.84313866, 42.83529541]],\n",
       "\n",
       "        [[23.90980445, 21.9176477 , 22.91372608, ..., 23.90980445,\n",
       "          22.91372608, 22.91372608],\n",
       "         [20.92156933, 22.91372608, 21.9176477 , ..., 24.90588282,\n",
       "          24.90588282, 25.90196119],\n",
       "         [20.92156933, 21.9176477 , 21.9176477 , ..., 23.90980445,\n",
       "          23.90980445, 22.91372608],\n",
       "         ...,\n",
       "         [32.87451169, 32.87451169, 33.87059006, ..., 39.84706029,\n",
       "          38.85098192, 39.84706029],\n",
       "         [38.85098192, 39.84706029, 39.84706029, ..., 39.84706029,\n",
       "          40.84313866, 41.83921704],\n",
       "         [45.82353052, 46.8196089 , 47.81568727, ..., 41.83921704,\n",
       "          41.83921704, 42.83529541]],\n",
       "\n",
       "        [[23.90980445, 21.9176477 , 22.91372608, ..., 23.90980445,\n",
       "          22.91372608, 23.90980445],\n",
       "         [20.92156933, 22.91372608, 21.9176477 , ..., 24.90588282,\n",
       "          24.90588282, 25.90196119],\n",
       "         [20.92156933, 21.9176477 , 21.9176477 , ..., 23.90980445,\n",
       "          23.90980445, 22.91372608],\n",
       "         ...,\n",
       "         [29.88627468, 30.88235305, 32.87451169, ..., 38.85098192,\n",
       "          38.85098192, 37.85490355],\n",
       "         [36.85882518, 37.85490355, 40.84313866, ..., 38.85098192,\n",
       "          39.84706029, 39.84706029],\n",
       "         [45.82353052, 47.81568727, 47.81568727, ..., 38.85098192,\n",
       "          37.85490355, 39.84706029]]]])"
      ]
     },
     "execution_count": 27,
     "metadata": {},
     "output_type": "execute_result"
    }
   ],
   "source": [
    "np.interp(img.cpu().detach().numpy(),[0,1],[1,255])"
   ]
  }
 ],
 "metadata": {
  "kernelspec": {
   "display_name": "torch",
   "language": "python",
   "name": "python3"
  },
  "language_info": {
   "codemirror_mode": {
    "name": "ipython",
    "version": 3
   },
   "file_extension": ".py",
   "mimetype": "text/x-python",
   "name": "python",
   "nbconvert_exporter": "python",
   "pygments_lexer": "ipython3",
   "version": "3.10.9"
  },
  "orig_nbformat": 4,
  "vscode": {
   "interpreter": {
    "hash": "bde6227ca098a28506cae2de5e5d199190f968e09af08cbdae81bc10cc850e31"
   }
  }
 },
 "nbformat": 4,
 "nbformat_minor": 2
}
